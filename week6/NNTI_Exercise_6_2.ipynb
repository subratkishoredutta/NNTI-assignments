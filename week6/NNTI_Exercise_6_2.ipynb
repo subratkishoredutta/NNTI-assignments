{
 "cells": [
  {
   "cell_type": "markdown",
   "id": "48e23e43",
   "metadata": {},
   "source": [
    "Name: Subrat Kishore Dutta  \n",
    "Matrikelnummer: 7028082\n",
    "Email:   subratkishoredutta1234@gmail.com, sudu00001@stud-uni.saarland.de\n",
    "   \n",
    "Name:   Prathvish Mithare\n",
    "Matrikelnummer:   7028692\n",
    "Email: prmi00001@stud-uni.saarland.de"
   ]
  },
  {
   "cell_type": "markdown",
   "id": "f6473d8f",
   "metadata": {},
   "source": [
    "### Note: This assignment will extensively refer to coding exercise in assignment 4."
   ]
  },
  {
   "cell_type": "markdown",
   "id": "3f513937",
   "metadata": {},
   "source": [
    "## 6.2.a Building your own Neural-Network"
   ]
  },
  {
   "cell_type": "markdown",
   "id": "ff3ec323",
   "metadata": {},
   "source": [
    "Import numpy, which is really all we need to create our own NN."
   ]
  },
  {
   "cell_type": "code",
   "execution_count": 1,
   "id": "c8d41194",
   "metadata": {},
   "outputs": [],
   "source": [
    "import numpy as np\n",
    "from tqdm import tqdm\n",
    "import warnings\n",
    "warnings.filterwarnings(\"ignore\")\n",
    "# Remember to Fix your seeds for pytorch and numpy"
   ]
  },
  {
   "cell_type": "markdown",
   "id": "2e710fd8",
   "metadata": {},
   "source": [
    "Recall that our simple neural network consisted of two layers. We also added an `activation` function as a non-linearity to the output of our intermediate layer. Given an input $\\mathbf{x} \\in \\mathbb{R}^n $ we have\n",
    "\n",
    "$ \\mathbf{h} = f^{(1)}(\\mathbf{x}; \\mathbf{W},c) = activation\\_fn(\\mathbf{W}^\\mathsf{T} \\mathbf{x} + c) $ \n",
    "\n",
    "$ \\mathbf{y} = f^{(2)}(\\mathbf{h}; \\mathbf{w},b) = \\text{$ softmax $}( \\mathbf{w}^\\mathsf{T} \\mathbf{h} + b) $"
   ]
  },
  {
   "cell_type": "markdown",
   "id": "c967bec3",
   "metadata": {},
   "source": [
    "In this exercise you will create your own network and are free to implement it with your own design choices. However, we will do it in a way that allows you to specify the depth of network, i.e. we extend our network such that there isn't just one $\\mathbf{h}$ intermediate layers, but rather $n$ of them $\\mathbf{h}_{i}$ with $i \\in \\{1,..., n\\}$\n",
    "\n",
    "**NOTE**: You are not allowed to use any built-in functions to calculate Leaky_ReLU, Softmax or the forward/backward pass directly.\n",
    "\n",
    "**NOTE 2**: Remember to include the non-linearity at every layer. Remember to also add the bias to every layer. Finally, remember to apply the softmax in the output layer."
   ]
  },
  {
   "cell_type": "markdown",
   "id": "8700e4ea",
   "metadata": {},
   "source": [
    "## ToDo: Rewrite the Leaky_ReLu and Softmax function as Class and implement a function in each of them to calculate gradients (1 point)\n",
    "Remember that in PyTorch, these are implemented as classes so we also want to have them as classes."
   ]
  },
  {
   "cell_type": "code",
   "execution_count": 416,
   "id": "b622e459",
   "metadata": {},
   "outputs": [],
   "source": [
    "class leaky_relu:\n",
    "    \"\"\"\n",
    "    Recall your implementation of relu function in assignment 4 and try to implement\n",
    "    Leaky_ReLu similarily, but as a class with a function to calculate gradient\n",
    "    \"\"\"\n",
    "    # TODO: Implement\n",
    "    def __init__(self,alpha=1e-2):\n",
    "        self.alpha=alpha\n",
    "    \n",
    "    def forward(self,x):\n",
    "        return (np.maximum(0,x)+self.alpha*np.minimum(0,x))\n",
    "    \n",
    "    def grad(self,xs):\n",
    "        return [1 if x>0 else self.alpha for x in xs]"
   ]
  },
  {
   "cell_type": "code",
   "execution_count": 417,
   "id": "7e24a7e9",
   "metadata": {},
   "outputs": [],
   "source": [
    "class softmax:\n",
    "    \"\"\"\n",
    "    Recall your implementation of softmax function in assignment 4 and try to implement\n",
    "    softmax similarily, but as a class with a function to calculate gradient\n",
    "    \"\"\"\n",
    "    # TODO: Implement\n",
    "    def forward(self,x):\n",
    "        s=np.exp(x) / (np.exp(x).sum())\n",
    "        return s\n",
    "    def grad(self,x):\n",
    "        s=self.forward(x)\n",
    "        dev=np.diag(s)\n",
    "        for i in range(len(x)):\n",
    "            for j in range(len(x)):\n",
    "                if i!=j:\n",
    "                    dev[i][j]=-s[i]*s[j]\n",
    "                elif i==j:\n",
    "                    dev[i][j]= s[i] * (1-s[i])\n",
    "        return dev"
   ]
  },
  {
   "cell_type": "code",
   "execution_count": 418,
   "id": "3f589721",
   "metadata": {},
   "outputs": [
    {
     "name": "stdout",
     "output_type": "stream",
     "text": [
      "[[0.13447071 0.36552929]\n",
      " [0.13447071 0.36552929]]\n"
     ]
    },
    {
     "data": {
      "text/plain": [
       "array([[ 0.19661193, -0.19661193],\n",
       "       [-0.19661193,  0.19661193]])"
      ]
     },
     "execution_count": 418,
     "metadata": {},
     "output_type": "execute_result"
    }
   ],
   "source": [
    "s=softmax()\n",
    "t=s.forward([[1,2],[1,2]])\n",
    "print(t)\n",
    "d=np.diag(t)\n",
    "#print(d)\n",
    "s.grad([1,2])"
   ]
  },
  {
   "cell_type": "markdown",
   "id": "eb7a9d13",
   "metadata": {},
   "source": [
    "## ToDo: Calculate the gradient using your implemented functions in their respective classes and validate by manually calculating gradients using a toy value. (1 point)"
   ]
  },
  {
   "cell_type": "code",
   "execution_count": 409,
   "id": "29614886",
   "metadata": {},
   "outputs": [
    {
     "name": "stdout",
     "output_type": "stream",
     "text": [
      "X:\n",
      " [ 1.62434536 -0.61175641]\n",
      "leaky relu output:\n",
      " [ 1.62434536 -0.00611756]\n",
      "leaky relu gradient:\n",
      " [1, 0.01]\n",
      "softmax output:\n",
      " [0.90344494 0.09655506]\n",
      "softmax gradient:\n",
      " [[ 0.21334829 -0.21334829]\n",
      " [-0.21334829  0.21334829]]\n"
     ]
    }
   ],
   "source": [
    "## Solution\n",
    "np.random.seed(1)\n",
    "X=np.random.randn(2)\n",
    "print('X:\\n',X)\n",
    "##leaky relu:\n",
    "lr=leaky_relu()\n",
    "y=lr.forward(X)\n",
    "print(\"leaky relu output:\\n\",y)\n",
    "gy=lr.grad(y)\n",
    "print(\"leaky relu gradient:\\n\",gy)\n",
    "\n",
    "##softmax:\n",
    "s=softmax()\n",
    "y=s.forward(X)\n",
    "print(\"softmax output:\\n\",y)\n",
    "gy=s.grad(y)\n",
    "print(\"softmax gradient:\\n\",gy)"
   ]
  },
  {
   "cell_type": "markdown",
   "id": "514da0cc",
   "metadata": {},
   "source": [
    "## ToDo: Rewrite the code from Assignment 4 to include backpropagation in your class without using pytorch. Remember to use your Leaky_ReLu class here as activation function. (1.5 points)\n",
    "#### Feel free to refer to your solutions from Assignment 4."
   ]
  },
  {
   "cell_type": "code",
   "execution_count": 256,
   "id": "013a57b6",
   "metadata": {},
   "outputs": [],
   "source": [
    "class FFNetwork:\n",
    "    \"\"\"\n",
    "    Class representing the feed-forward neural network\n",
    "    \"\"\"\n",
    "    def __init__(self, input_dim: int, hidden_dim: int,\n",
    "                 output_dim: int, hidden_size: int):\n",
    "        self.weight=[]\n",
    "        self.weight.append(np.random.randn(input_dim,hidden_dim))#+1 for the bias\n",
    "        for i in range(hidden_size):\n",
    "            self.weight.append(np.random.randn(hidden_dim,hidden_dim)) #+1 fot the bias\n",
    "        self.weight.append(np.random.randn(hidden_dim,output_dim))\n",
    "        \n",
    "    def forward(self,x):\n",
    "        \n",
    "        \n",
    "        z=[]\n",
    "        a=[]\n",
    "        res = np.array(x)\n",
    "        #res=np.hstack((res,np.ones((res.shape[0],1))))\n",
    "        res=np.matmul(res,self.weight[0])\n",
    "        z.append(res)\n",
    "        res=lr.forward(res)\n",
    "        a.append(res)\n",
    "        for j in range(1,len(self.weight)):\n",
    "            #res=np.hstack((res,np.ones((res.shape[0],1))))\n",
    "            res=np.matmul(res,self.weight[j])\n",
    "            z.append(res)\n",
    "            res=lr.forward(res)\n",
    "            a.append(res)\n",
    "        #res=np.hstack((res,np.ones((res.shape[0],1))))\n",
    "        res=np.matmul(res,self.weight[-1])\n",
    "        z.append(res)\n",
    "        res=s.forward(res)\n",
    "        a.append(res)\n",
    "        return z,a\n",
    "      \n",
    "    def backwards(self,y,z,a):\n",
    "        dw=[]\n",
    "        y=np.array(y)\n",
    "        delta = [None] * len(self.weight)  \n",
    "        # insert the last layer error\n",
    "        n = len(y)\n",
    "        loss=0\n",
    "        for i in range(n):\n",
    "            loss+=-np.sum(np.log(a[-1][y.argmax(axis=1)]))\n",
    "        delta[-1] = (y-a[-1])*(s.grad(z[-1]))\n",
    "        for i in reversed(range(len(delta)-1)):\n",
    "            #print('lr:',lr.grad(z[i]))\n",
    "            delta[i] = np.array(lr.grad(z[i]))*(self.weight[i+1].T.dot(delta[i+1]))\n",
    "        \n",
    "        dw = [a[i]*d for i,d in enumerate(delta)]\n",
    "        return loss,dw\n",
    "    \n",
    "    def train(self,xs,ys,lr=0.01,epochs=5):\n",
    "        for i in range(epochs):\n",
    "            tloss=0\n",
    "            for x,y in zip(xs,ys):#stochastic gradient descent setup\n",
    "                z,a = self.forward(x)\n",
    "                loss,dw=self.backwards([y],z,a)\n",
    "                tloss+=loss\n",
    "                ws=[]\n",
    "                for w,D in zip(self.weight,dw):\n",
    "                    w+=-lr*D\n",
    "                    ws.append(w)\n",
    "                self.weight=ws\n",
    "            print(f'epoch:{i+1}/{epochs} loss:{tloss/len(xs):.4f}')"
   ]
  },
  {
   "cell_type": "code",
   "execution_count": 271,
   "id": "81bd8f8f",
   "metadata": {},
   "outputs": [
    {
     "name": "stdout",
     "output_type": "stream",
     "text": [
      "epoch:1/10 loss:0.7480\n",
      "epoch:2/10 loss:0.7239\n",
      "epoch:3/10 loss:0.7134\n",
      "epoch:4/10 loss:0.7078\n",
      "epoch:5/10 loss:0.7044\n",
      "epoch:6/10 loss:0.7020\n",
      "epoch:7/10 loss:0.7003\n",
      "epoch:8/10 loss:0.6990\n",
      "epoch:9/10 loss:0.6980\n",
      "epoch:10/10 loss:0.6972\n"
     ]
    }
   ],
   "source": [
    "x =[[1.,1.],[0.,0.],[1.,0.],[0.,1.]]\n",
    "y = [[1,0],[1,0],[0,1],[0,1]]\n",
    "network = FFNetwork(2,2,2, 1)\n",
    "z,a = network.forward(x)\n",
    "network.train(x,y,0.5,10)"
   ]
  },
  {
   "cell_type": "code",
   "execution_count": 23,
   "id": "2f2ddaa8",
   "metadata": {},
   "outputs": [
    {
     "data": {
      "text/plain": [
       "tensor([1.0000e-04, 1.0975e-04, 1.2045e-04, 1.3219e-04, 1.4508e-04, 1.5923e-04,\n",
       "        1.7475e-04, 1.9179e-04, 2.1049e-04, 2.3101e-04, 2.5354e-04, 2.7826e-04,\n",
       "        3.0539e-04, 3.3516e-04, 3.6784e-04, 4.0370e-04, 4.4306e-04, 4.8626e-04,\n",
       "        5.3367e-04, 5.8570e-04, 6.4281e-04, 7.0548e-04, 7.7426e-04, 8.4975e-04,\n",
       "        9.3260e-04, 1.0235e-03, 1.1233e-03, 1.2328e-03, 1.3530e-03, 1.4850e-03,\n",
       "        1.6298e-03, 1.7886e-03, 1.9630e-03, 2.1544e-03, 2.3645e-03, 2.5950e-03,\n",
       "        2.8480e-03, 3.1257e-03, 3.4305e-03, 3.7649e-03, 4.1320e-03, 4.5349e-03,\n",
       "        4.9770e-03, 5.4623e-03, 5.9948e-03, 6.5793e-03, 7.2208e-03, 7.9248e-03,\n",
       "        8.6975e-03, 9.5455e-03, 1.0476e-02, 1.1498e-02, 1.2619e-02, 1.3849e-02,\n",
       "        1.5199e-02, 1.6681e-02, 1.8307e-02, 2.0092e-02, 2.2051e-02, 2.4201e-02,\n",
       "        2.6561e-02, 2.9151e-02, 3.1993e-02, 3.5112e-02, 3.8535e-02, 4.2292e-02,\n",
       "        4.6416e-02, 5.0941e-02, 5.5908e-02, 6.1359e-02, 6.7342e-02, 7.3907e-02,\n",
       "        8.1113e-02, 8.9022e-02, 9.7701e-02, 1.0723e-01, 1.1768e-01, 1.2915e-01,\n",
       "        1.4175e-01, 1.5557e-01, 1.7074e-01, 1.8738e-01, 2.0565e-01, 2.2570e-01,\n",
       "        2.4771e-01, 2.7186e-01, 2.9836e-01, 3.2745e-01, 3.5938e-01, 3.9442e-01,\n",
       "        4.3288e-01, 4.7508e-01, 5.2140e-01, 5.7224e-01, 6.2803e-01, 6.8926e-01,\n",
       "        7.5646e-01, 8.3022e-01, 9.1116e-01, 1.0000e+00])"
      ]
     },
     "execution_count": 23,
     "metadata": {},
     "output_type": "execute_result"
    }
   ],
   "source": [
    "lrs=10**torch.linspace(-4,0,100)\n",
    "losses = [0,1,2,3,4,5,6,7,8,9]\n",
    "lrs[losses.index(min(losses))]\n",
    "lrs"
   ]
  },
  {
   "cell_type": "markdown",
   "id": "ef49cc8a",
   "metadata": {
    "tags": []
   },
   "source": [
    ",### 6.2.b.2 Training a network for MNIST (1.5 points)\n",
    "\n",
    "Now that we know how to train a Neural network in Pytorch. Let's start training and evaluating our model using a very standard dataset, for now let's use MNIST. Design a network from scracth using PyTorch and include the followings. Remember that we need to use forward-propagation and backprop.\n",
    "- Training Loop\n",
    "- Optimization \n",
    "- Evaluating Loop,"
   ]
  },
  {
   "cell_type": "code",
   "execution_count": 8,
   "id": "b1a86a96",
   "metadata": {},
   "outputs": [],
   "source": [
    "import torch\n",
    "import torch.nn.functional as F\n",
    "\n",
    "import torch.nn as nn\n",
    "import matplotlib.pyplot as plt\n",
    "import torchvision\n",
    "import torchvision.transforms as transforms\n",
    "import torchvision.datasets as datasets\n",
    "from torch.utils.data import DataLoader"
   ]
  },
  {
   "cell_type": "code",
   "execution_count": 9,
   "id": "61f83af6",
   "metadata": {},
   "outputs": [
    {
     "name": "stdout",
     "output_type": "stream",
     "text": [
      "Downloading http://yann.lecun.com/exdb/mnist/train-images-idx3-ubyte.gz\n",
      "Downloading http://yann.lecun.com/exdb/mnist/train-images-idx3-ubyte.gz to ./data\\MNIST\\raw\\train-images-idx3-ubyte.gz\n"
     ]
    },
    {
     "data": {
      "application/vnd.jupyter.widget-view+json": {
       "model_id": "06500663ab954ba2b13d8be6b5c28bcf",
       "version_major": 2,
       "version_minor": 0
      },
      "text/plain": [
       "HBox(children=(IntProgress(value=0, max=9912422), HTML(value='')))"
      ]
     },
     "metadata": {},
     "output_type": "display_data"
    },
    {
     "name": "stdout",
     "output_type": "stream",
     "text": [
      "\n",
      "Extracting ./data\\MNIST\\raw\\train-images-idx3-ubyte.gz to ./data\\MNIST\\raw\n",
      "\n",
      "Downloading http://yann.lecun.com/exdb/mnist/train-labels-idx1-ubyte.gz\n",
      "Downloading http://yann.lecun.com/exdb/mnist/train-labels-idx1-ubyte.gz to ./data\\MNIST\\raw\\train-labels-idx1-ubyte.gz\n"
     ]
    },
    {
     "data": {
      "application/vnd.jupyter.widget-view+json": {
       "model_id": "7dad1f8bcc944517bcff90c7163c3f17",
       "version_major": 2,
       "version_minor": 0
      },
      "text/plain": [
       "HBox(children=(IntProgress(value=0, max=28881), HTML(value='')))"
      ]
     },
     "metadata": {},
     "output_type": "display_data"
    },
    {
     "name": "stdout",
     "output_type": "stream",
     "text": [
      "\n",
      "Extracting ./data\\MNIST\\raw\\train-labels-idx1-ubyte.gz to ./data\\MNIST\\raw\n",
      "\n",
      "Downloading http://yann.lecun.com/exdb/mnist/t10k-images-idx3-ubyte.gz\n",
      "Downloading http://yann.lecun.com/exdb/mnist/t10k-images-idx3-ubyte.gz to ./data\\MNIST\\raw\\t10k-images-idx3-ubyte.gz\n"
     ]
    },
    {
     "data": {
      "application/vnd.jupyter.widget-view+json": {
       "model_id": "4500c4550d5046d3b1fe516bba48ed80",
       "version_major": 2,
       "version_minor": 0
      },
      "text/plain": [
       "HBox(children=(IntProgress(value=0, max=1648877), HTML(value='')))"
      ]
     },
     "metadata": {},
     "output_type": "display_data"
    },
    {
     "name": "stdout",
     "output_type": "stream",
     "text": [
      "\n",
      "Extracting ./data\\MNIST\\raw\\t10k-images-idx3-ubyte.gz to ./data\\MNIST\\raw\n",
      "\n",
      "Downloading http://yann.lecun.com/exdb/mnist/t10k-labels-idx1-ubyte.gz\n",
      "Downloading http://yann.lecun.com/exdb/mnist/t10k-labels-idx1-ubyte.gz to ./data\\MNIST\\raw\\t10k-labels-idx1-ubyte.gz\n"
     ]
    },
    {
     "data": {
      "application/vnd.jupyter.widget-view+json": {
       "model_id": "34d77ebc498f4464a81a02902bd42b3a",
       "version_major": 2,
       "version_minor": 0
      },
      "text/plain": [
       "HBox(children=(IntProgress(value=0, max=4542), HTML(value='')))"
      ]
     },
     "metadata": {},
     "output_type": "display_data"
    },
    {
     "name": "stdout",
     "output_type": "stream",
     "text": [
      "\n",
      "Extracting ./data\\MNIST\\raw\\t10k-labels-idx1-ubyte.gz to ./data\\MNIST\\raw\n",
      "\n",
      "60000\n",
      "10000\n"
     ]
    }
   ],
   "source": [
    "##loading the dataset:\n",
    "datatrain = datasets.MNIST(root='./data', train=True, download=True,transform=transforms.ToTensor())\n",
    "datatest = datasets.MNIST(root='./data', train=False, download=True, transform=transforms.ToTensor())\n",
    "print(len(datatrain))\n",
    "print(len(datatest))\n",
    "\n",
    "train_loader = DataLoader(datatrain,batch_size=32)\n",
    "test_loader = torch.utils.data.DataLoader(datatest,batch_size=1)"
   ]
  },
  {
   "cell_type": "code",
   "execution_count": 13,
   "id": "cd3f6f7f",
   "metadata": {},
   "outputs": [],
   "source": [
    "##designing the network\n",
    "class TorchFFNetwork(nn.Module):\n",
    "    \"\"\"\n",
    "    A pytorch implementation to do classification for MNIST dataset.\n",
    "    \"\"\"\n",
    "    def __init__(self,input_dim,hidden_dim,output_dim,hidden_size):\n",
    "        super(TorchFFNetwork, self).__init__()\n",
    "        self.input_dim = input_dim\n",
    "        self.hidden_dim  = hidden_dim\n",
    "        self.output_dim = output_dim\n",
    "        self.hidden_size = hidden_size\n",
    "        self.fci = nn.Linear(self.input_dim, self.hidden_dim)\n",
    "        self.fch = torch.nn.Linear(self.hidden_dim, self.hidden_dim)\n",
    "        self.fco = torch.nn.Linear(self.hidden_dim,self.output_dim)\n",
    "        self.relu = torch.nn.ReLU()\n",
    "        self.softmax = torch.nn.Softmax()\n",
    "        \n",
    "    def forward(self,x):\n",
    "        o=self.fci(x)\n",
    "        o=self.relu(o)\n",
    "        for i in range(self.hidden_size):\n",
    "            o=self.fch(o)\n",
    "            o=self.relu(o)\n",
    "        o=self.fco(o)\n",
    "        o=self.softmax(o)\n",
    "        return o"
   ]
  },
  {
   "cell_type": "code",
   "execution_count": 14,
   "id": "31564f0c",
   "metadata": {},
   "outputs": [],
   "source": [
    "input_dim = 28*28\n",
    "hidden_dim = 10 #number of neurons\n",
    "hidden_size = 2 #number of layers\n",
    "output_dim = 10\n",
    "learning_rate = 0.01\n",
    "epochs=10\n",
    "model = TorchFFNetwork(input_dim,hidden_dim,output_dim,hidden_size)\n",
    "lossfunc = nn.CrossEntropyLoss()\n",
    "optimizer = torch.optim.Adam(model.parameters(), lr=learning_rate)\n"
   ]
  },
  {
   "cell_type": "code",
   "execution_count": 15,
   "id": "5ae36084",
   "metadata": {},
   "outputs": [
    {
     "name": "stdout",
     "output_type": "stream",
     "text": [
      "epoch:1/10 loss:1.7233 training accuracy:73.77%\n",
      "epoch:2/10 loss:1.6391 training accuracy:82.15%\n",
      "epoch:3/10 loss:1.6572 training accuracy:80.35%\n",
      "epoch:4/10 loss:1.6550 training accuracy:80.61%\n",
      "epoch:5/10 loss:1.6532 training accuracy:80.76%\n",
      "epoch:6/10 loss:1.6638 training accuracy:79.71%\n",
      "epoch:7/10 loss:1.6634 training accuracy:79.77%\n",
      "epoch:8/10 loss:1.6574 training accuracy:80.36%\n",
      "epoch:9/10 loss:1.6734 training accuracy:78.77%\n",
      "epoch:10/10 loss:1.6720 training accuracy:78.91%\n"
     ]
    }
   ],
   "source": [
    "##training loop and Optimisation\n",
    "input_dim = 28*28\n",
    "hidden_dim = 10 #number of neurons\n",
    "hidden_size = 2 #number of layers\n",
    "output_dim = 10\n",
    "learning_rate = 0.01\n",
    "epochs=10\n",
    "model = TorchFFNetwork(input_dim,hidden_dim,output_dim,hidden_size)\n",
    "lossfunc = nn.CrossEntropyLoss()\n",
    "optimizer = torch.optim.Adam(model.parameters(), lr=learning_rate)\n",
    "\n",
    "for epoch in range(epochs):\n",
    "    tloss=0\n",
    "    accuracy=[]\n",
    "    temp=0\n",
    "    for i,(x,ys) in enumerate(train_loader):\n",
    "        acc=[]\n",
    "        pred=model(x.reshape(-1, 28*28))\n",
    "        loss=lossfunc(pred,ys)\n",
    "        optimizer.zero_grad()\n",
    "        loss.backward()\n",
    "        optimizer.step()\n",
    "        tloss+=loss.item()\n",
    "        for p,y in zip(pred,ys):\n",
    "            if (p.argmax().item()==y.item()):\n",
    "                acc.append(1)\n",
    "            else:\n",
    "                acc.append(0)\n",
    "        accuracy.append(sum(acc)/len(ys))\n",
    "    temp=(sum(accuracy)/(len(datatrain)/32))\n",
    "    print(f'epoch:{epoch+1}/{epochs} loss:{tloss/(len(datatrain)/32):.4f} training accuracy:{temp*100:.2f}%')"
   ]
  },
  {
   "cell_type": "code",
   "execution_count": 523,
   "id": "69101029",
   "metadata": {},
   "outputs": [
    {
     "name": "stderr",
     "output_type": "stream",
     "text": [
      "10000it [00:03, 2634.38it/s]\n"
     ]
    },
    {
     "name": "stdout",
     "output_type": "stream",
     "text": [
      "testing accuracy: 85.68 % testing loss: tensor(0.0001, grad_fn=<DivBackward0>)\n"
     ]
    }
   ],
   "source": [
    "# Evaluation\n",
    "accuracy=0\n",
    "for i,(x,y) in tqdm(enumerate(test_loader)):\n",
    "    pred=model(x.reshape(-1, 28*28))\n",
    "    loss=lossfunc(pred,y)\n",
    "    #print('pred:',pred.argmax(axis=1).item())\n",
    "    #print('y:',y.item())\n",
    "    if y.item()== pred.argmax(axis=1).item():\n",
    "        accuracy+=1\n",
    "print(\"testing accuracy:\",(accuracy/len(datatest))*100,'% testing loss:',(loss/len(datatest)))"
   ]
  },
  {
   "cell_type": "markdown",
   "id": "eb3c2f35",
   "metadata": {},
   "source": [
    "### ToDo: Implement functions for Stochastic Gradient Descent and Stochastic Gradient Descent with momentum and plot the difference on how they change the value for gradients. ( 1 + 1 (Bonus))"
   ]
  },
  {
   "cell_type": "code",
   "execution_count": 531,
   "id": "acc32ddd",
   "metadata": {},
   "outputs": [],
   "source": [
    "def  loss_func(theta,X,y):    \n",
    "    predictions = X.dot(theta)\n",
    "    cost = (1/2) * np.sum(np.square(predictions-y))\n",
    "    return cost"
   ]
  },
  {
   "cell_type": "code",
   "execution_count": 533,
   "id": "f9a3b112",
   "metadata": {},
   "outputs": [
    {
     "name": "stdout",
     "output_type": "stream",
     "text": [
      "w1:0.3641,\n",
      "w2:0.2287\n",
      "loss:5.050\n"
     ]
    },
    {
     "data": {
      "text/plain": [
       "<matplotlib.collections.PathCollection at 0x255f7ce61c8>"
      ]
     },
     "execution_count": 533,
     "metadata": {},
     "output_type": "execute_result"
    },
    {
     "data": {
      "image/png": "[encoded data removed]",
      "text/plain": [
       "<Figure size 720x576 with 1 Axes>"
      ]
     },
     "metadata": {
      "needs_background": "light"
     },
     "output_type": "display_data"
    }
   ],
   "source": [
    "##stochastic gradient descent:\n",
    "\n",
    "def SGD(X,Y,w,learning_rate=0.01,epochs=10):\n",
    "    m = len(Y)\n",
    "    history = np.zeros(epochs)\n",
    "    for epoch in range(epochs):\n",
    "        loss =0.0\n",
    "        for i in range(m):\n",
    "            idx=np.random.randint(0,m)\n",
    "            x = X[idx].reshape(1,X.shape[1])\n",
    "            y = Y[idx]\n",
    "            pred = np.dot(x,w)\n",
    "            loss += loss_func(w,x,y)\n",
    "            w = w -(1/m)*learning_rate*( x.T.dot((pred - y)))\n",
    "        history[epoch]=loss\n",
    "    return w, history\n",
    "\n",
    "lr =0.5\n",
    "\n",
    "epochs = 50\n",
    "w = np.random.randn(2)\n",
    "X = np.random.rand(100)\n",
    "y = np.random.rand(100)\n",
    "X = np.c_[np.ones((len(X),1)),X]#for the bias term\n",
    "w,history = SGD(X,y,w,lr,epochs)\n",
    "print(f'w1:{w[0]:0.4f},\\nw2:{w[1]:0.4f}')\n",
    "print(f'loss:{history[-1]:0.3f}')\n",
    "fig= plt.figure(figsize=(10,8))\n",
    "plt.ylabel('loss')\n",
    "plt.xlabel('epochs')\n",
    "plt.plot(range(epochs),history,alpha=0.5)\n",
    "plt.scatter(range(epochs),history,c='orange')"
   ]
  },
  {
   "cell_type": "code",
   "execution_count": 534,
   "id": "b1b58e7d",
   "metadata": {},
   "outputs": [],
   "source": [
    "## minibatch gradient descent\n",
    "def minibatch_gradient_descent(X,Y,w,learning_rate=0.01,epochs=10,bs =20):\n",
    "    m = len(Y)\n",
    "    history = np.zeros(epochs)\n",
    "    nb = int(m/bs)\n",
    "    for epoch in range(epochs):\n",
    "        loss=0.0\n",
    "        idx = np.random.permutation(m)\n",
    "        X = X[idx]\n",
    "        Y = Y[idx]\n",
    "        for i in range(0,m,bs):\n",
    "            x = X[i:i+bs]\n",
    "            y = Y[i:i+bs]    \n",
    "            x = np.c_[np.ones(len(x)),x]   \n",
    "            pred= np.dot(x,w)\n",
    "            w = w -(1/m)*learning_rate*( x.T.dot((pred-y)))\n",
    "            loss += loss_func(w,x,y)\n",
    "        history[epoch]  = loss       \n",
    "    return w, history"
   ]
  },
  {
   "cell_type": "code",
   "execution_count": 541,
   "id": "b98baba7",
   "metadata": {},
   "outputs": [
    {
     "name": "stdout",
     "output_type": "stream",
     "text": [
      "w1:0.4891493937912226,\n",
      "w2:0.019606980246557704\n",
      "loss:40.335\n"
     ]
    },
    {
     "data": {
      "text/plain": [
       "<matplotlib.collections.PathCollection at 0x255f8d81a88>"
      ]
     },
     "execution_count": 541,
     "metadata": {},
     "output_type": "execute_result"
    },
    {
     "data": {
      "image/png": "[encoded data removed]",
      "text/plain": [
       "<Figure size 720x720 with 1 Axes>"
      ]
     },
     "metadata": {
      "needs_background": "light"
     },
     "output_type": "display_data"
    }
   ],
   "source": [
    "lr =0.5\n",
    "\n",
    "epochs = 50\n",
    "w = np.random.randn(2)\n",
    "X = np.random.rand(1000)\n",
    "y = np.random.rand(1000)\n",
    "#w = np.random.randn(2,1)\n",
    "w,history = minibatch_gradient_descent(X,y,w,lr,epochs,bs=16)\n",
    "print(f'w1:{w[0]},\\nw2:{w[1]}')\n",
    "print(f'loss:{history[-1]:0.3f}')\n",
    "fig= plt.figure(figsize=(10,10))\n",
    "plt.ylabel('loss')\n",
    "plt.xlabel('epochs')\n",
    "plt.plot(range(epochs),history,alpha=0.5)\n",
    "plt.scatter(range(epochs),history)"
   ]
  },
  {
   "cell_type": "code",
   "execution_count": null,
   "id": "2c11c531",
   "metadata": {},
   "outputs": [],
   "source": []
  },
  {
   "cell_type": "code",
   "execution_count": null,
   "id": "d2ca6a78",
   "metadata": {},
   "outputs": [],
   "source": []
  }
 ],
 "metadata": {
  "kernelspec": {
   "display_name": "Python 3",
   "language": "python",
   "name": "python3"
  },
  "language_info": {
   "codemirror_mode": {
    "name": "ipython",
    "version": 3
   },
   "file_extension": ".py",
   "mimetype": "text/x-python",
   "name": "python",
   "nbconvert_exporter": "python",
   "pygments_lexer": "ipython3",
   "version": "3.7.4"
  }
 },
 "nbformat": 4,
 "nbformat_minor": 5
}
