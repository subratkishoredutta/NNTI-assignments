{
 "cells": [
  {
   "cell_type": "markdown",
   "id": "25bf35a7",
   "metadata": {},
   "source": [
    "Name: Subrat Kishore Dutta  \n",
    "Matrikelnummer:  7028082\n",
    "Email: subratkishoredutta1234@gmail.com,sudu00001@stud.uni-saarland.de  \n",
    "   \n",
    "Name: Prathvish Mithare \n",
    "Matrikelnummer:  7028692\n",
    "Email:   prmi00001@stud.uni-saarland.de"
   ]
  },
  {
   "cell_type": "markdown",
   "id": "e4e589e3",
   "metadata": {},
   "source": [
    "## 4.4.a Building your own feed-forward network"
   ]
  },
  {
   "cell_type": "markdown",
   "id": "3289b96d",
   "metadata": {},
   "source": [
    "Import numpy, which is really all we need to create our own NN."
   ]
  },
  {
   "cell_type": "code",
   "execution_count": 265,
   "id": "269d0bdd",
   "metadata": {},
   "outputs": [],
   "source": [
    "import numpy as np"
   ]
  },
  {
   "cell_type": "markdown",
   "id": "9f19efe6",
   "metadata": {},
   "source": [
    "Recall that our simple neural network consisted of two layers. We also added a `ReLU` function as a non-linearity to the output of our intermediate layer. Given an input $\\mathbf{x} \\in \\mathbb{R}^n $ we have\n",
    "\n",
    "$ \\mathbf{h} = f^{(1)}(\\mathbf{x}; \\mathbf{W},c) = ReLU(\\mathbf{W}^\\mathsf{T} \\mathbf{x} + c) $ \n",
    "\n",
    "$ \\mathbf{y} = f^{(2)}(\\mathbf{h}; \\mathbf{w},b) = \\text{$ softmax $}( \\mathbf{w}^\\mathsf{T} \\mathbf{h} + b) $"
   ]
  },
  {
   "cell_type": "markdown",
   "id": "a523deb2",
   "metadata": {},
   "source": [
    "In this exercise you will create your own network. However, we will do it in a way that allows you to specify the depth of network, i.e. we extend our network such that there isn't just one $\\mathbf{h}$ intermediate layers, but rather $n$ of them $\\mathbf{h}_{i}$ with $i \\in \\{1,..., n\\}$\n",
    "\n",
    "**NOTE**: You are not allowed to use any built-in functions to calculate the ReLU, Softmax or the forward pass directly.\n",
    "\n",
    "**NOTE 2**: Remember to include the non-linearity at every layer. Remember to also add the bias to every layer. Finally, remember to apply the softmax in the output layer."
   ]
  },
  {
   "cell_type": "code",
   "execution_count": 266,
   "id": "f06984e0",
   "metadata": {},
   "outputs": [],
   "source": [
    "def relu(x):\n",
    "    \"\"\"\n",
    "    Implement the ReLU function as defined in the lecture\n",
    "    Input: an array of numbers\n",
    "    Output: ReLU(x)\n",
    "    \"\"\"\n",
    "    # TODO: Implement\n",
    "    return np.maximum(x,0)"
   ]
  },
  {
   "cell_type": "code",
   "execution_count": 267,
   "id": "7943b34c",
   "metadata": {},
   "outputs": [],
   "source": [
    "def softmax(x):\n",
    "    \"\"\"\n",
    "    Implement the `softmax` function as defined in the lecture\n",
    "    \"\"\"\n",
    "    # TODO: Implement\n",
    "    s=np.exp(x) / (np.exp(x).sum())\n",
    "    return s"
   ]
  },
  {
   "cell_type": "code",
   "execution_count": 271,
   "id": "938c146f",
   "metadata": {},
   "outputs": [],
   "source": [
    "class FFNetwork:\n",
    "    \"\"\"\n",
    "    Class representing the feed-forward neural network\n",
    "    \"\"\"\n",
    "    def __init__(self, input_dim: int, hidden_dim: int,\n",
    "                 output_dim: int, hidden_size: int):\n",
    "        \"\"\"\n",
    "        Args:\n",
    "        input_dim: dimensionality of `x`\n",
    "        hidden_dim: dimensionality of the intermediate `h_i`\n",
    "        output_dim: dimensionality of `y`\n",
    "        hidden_size: number of intermediate layers `h_i`\n",
    "        \"\"\"\n",
    "        # TODO: Implement\n",
    "        # Initialize each layer as a random matrix of the\n",
    "        # appropriate dimensions\n",
    "        \n",
    "        ## SOLUTION ##\n",
    "        self.i=np.random.randn(input_dim+1,hidden_dim)#+1 for the bias\n",
    "        self.h=np.random.randn(hidden_size,hidden_dim+1,hidden_dim)#+1 fot the bias\n",
    "        self.o=np.random.randn(hidden_dim+1,output_dim)\n",
    "        ## SOLUTION ##\n",
    "    \n",
    "    def forward(self, x):\n",
    "        \"\"\"\n",
    "        Args:\n",
    "        x: input to the neural network\n",
    "        \n",
    "        Output:\n",
    "        `y`, i.e. the prediction of the network\n",
    "        \n",
    "        Note: Remember to apply the ReLU and add the bias for each layer\n",
    "        \"\"\"\n",
    "        # TODO: Implement the forward pass of the network,\n",
    "        # i.e. calculate `y` from an input `x`\n",
    "        # Remember that each layer's output is calculated by\n",
    "        # f^(i) = ReLU(W_i^T * f^(i-1) + b_i)\n",
    "        ## SOLUTION ##\n",
    "        \n",
    "        res = np.array([x])\n",
    "        res=np.hstack((res,np.ones((res.shape[0],1))))\n",
    "        res=relu(np.matmul(res,self.i))\n",
    "        for j in range(self.h.shape[0]):\n",
    "            res=np.hstack((res,np.ones((res.shape[0],1))))\n",
    "            res=relu(np.matmul(res,self.h[j]))\n",
    "        res=np.hstack((res,np.ones((res.shape[0],1))))\n",
    "        res=softmax(np.matmul(res,self.o))\n",
    "        \n",
    "        \n",
    "        ## SOLUTION ##\n",
    "        \n",
    "        return res"
   ]
  },
  {
   "cell_type": "markdown",
   "id": "403ff333",
   "metadata": {},
   "source": [
    "Your implementation needs to be compatible with the following test code:"
   ]
  },
  {
   "cell_type": "code",
   "execution_count": 272,
   "id": "ef917074",
   "metadata": {},
   "outputs": [
    {
     "data": {
      "text/plain": [
       "array([[0.63720011, 0.36279989]])"
      ]
     },
     "execution_count": 272,
     "metadata": {},
     "output_type": "execute_result"
    }
   ],
   "source": [
    "np.random.seed(7)\n",
    "\n",
    "# A configuration that reflects the example from the lecture\n",
    "# i.e. our input is of size 2, our intermediate layers are also of size 2,\n",
    "# and we will only have 1 hidden layer.\n",
    "network = FFNetwork(2, 2, 2, 1)\n",
    "network.forward([-1.,0.])"
   ]
  },
  {
   "cell_type": "markdown",
   "id": "3ad9a410",
   "metadata": {},
   "source": [
    "Disclaimer: Do not expect a correct output at this stage, you are simply building the structure of the network."
   ]
  },
  {
   "cell_type": "markdown",
   "id": "746cfe76",
   "metadata": {},
   "source": [
    "However, our setup also allows us to create larger networks:"
   ]
  },
  {
   "cell_type": "code",
   "execution_count": 273,
   "id": "67ae7701",
   "metadata": {},
   "outputs": [
    {
     "data": {
      "text/plain": [
       "array([[0.12968929, 0.87031071]])"
      ]
     },
     "execution_count": 273,
     "metadata": {},
     "output_type": "execute_result"
    }
   ],
   "source": [
    "np.random.seed(0)\n",
    "\n",
    "network = FFNetwork(2, 3, 2, 4)\n",
    "network.forward([1.,0.]) "
   ]
  },
  {
   "cell_type": "markdown",
   "id": "a3a0352e",
   "metadata": {},
   "source": [
    "Some sanity checks:\n",
    "\n",
    "1. You should be seeing the number of units you specified as output units in your output.\n",
    "1. The numbers in your outputs should be in the range $[0,1]$\n",
    "1. The numbers should add up to $1$\n",
    "1. Varying the structure of the network should not break its functionality."
   ]
  },
  {
   "cell_type": "markdown",
   "id": "d80d1e62",
   "metadata": {},
   "source": [
    "## 4.4.b Implementing a feed-forward network using `torch`\n",
    "\n",
    "### 4.4.b.1 Creating the network (1 point)"
   ]
  },
  {
   "cell_type": "markdown",
   "id": "481d3548",
   "metadata": {},
   "source": [
    "For this we will be using the `nn` module of `torch`, which contains modules representing types of layers. In your case, the specific relevant module would be that of a *fully connected linear layer*.\n",
    "\n",
    "We will also be using the `nn.functional` module to take advantage of the built in functions for ReLU and Softmax. In this exercise, you are allowed to use them."
   ]
  },
  {
   "cell_type": "code",
   "execution_count": 274,
   "id": "2176ccbe",
   "metadata": {},
   "outputs": [],
   "source": [
    "import torch\n",
    "import torch.nn.functional as F\n",
    "\n",
    "from torch import nn"
   ]
  },
  {
   "cell_type": "code",
   "execution_count": 275,
   "id": "4e3de789",
   "metadata": {},
   "outputs": [],
   "source": [
    "class TorchFFNetwork(nn.Module):\n",
    "    \"\"\"\n",
    "    A `torch` version of the network implemented for 4.3.b\n",
    "    \"\"\"\n",
    "    def __init__(self, input_dim: int, hidden_dim: int,\n",
    "                 output_dim: int, hidden_size: int):\n",
    "        \"\"\"\n",
    "        Args:\n",
    "        input_dim: dimensionality of `x`\n",
    "        hidden_dim: dimensionality of the intermediate `h_i`\n",
    "        output_dim: dimensionality of `y`\n",
    "        hidden_size: number of intermediate layers `h_i`\n",
    "        \"\"\"\n",
    "        ## SOLUTION ##\n",
    "        super(TorchFFNetwork, self).__init__()\n",
    "        self.input_dim = input_dim\n",
    "        self.hidden_dim  = hidden_dim\n",
    "        self.output_dim = output_dim\n",
    "        self.hidden_size = hidden_size\n",
    "        self.fci = torch.nn.Linear(self.input_dim, self.hidden_dim)\n",
    "        self.fch = torch.nn.Linear(self.hidden_dim, self.hidden_dim)\n",
    "        self.fco = torch.nn.Linear(self.hidden_dim,self.output_dim)\n",
    "        self.relu = torch.nn.ReLU()\n",
    "        self.softmax = torch.nn.Softmax()\n",
    "        ## SOLUTION ##\n",
    "\n",
    "    def forward(self, x):\n",
    "        ## SOLUTION ##\n",
    "        x=self.relu(self.fci(x))\n",
    "        for i in range(self.hidden_size):\n",
    "            x=self.relu(self.fch(x))\n",
    "        x=self.softmax(self.fco(x))\n",
    "        return x\n",
    "        ## SOLUTION ##\n",
    " \n"
   ]
  },
  {
   "cell_type": "markdown",
   "id": "21e3b646",
   "metadata": {},
   "source": [
    "Your implementation, once more, needs to be compatible with the following test code:"
   ]
  },
  {
   "cell_type": "code",
   "execution_count": 276,
   "id": "a5149885",
   "metadata": {},
   "outputs": [],
   "source": [
    "torch_network = TorchFFNetwork(2, 3, 2, 1)"
   ]
  },
  {
   "cell_type": "code",
   "execution_count": 277,
   "id": "96da0aff",
   "metadata": {},
   "outputs": [
    {
     "name": "stderr",
     "output_type": "stream",
     "text": [
      "C:\\Users\\Asus\\Anaconda3\\lib\\site-packages\\ipykernel_launcher.py:32: UserWarning: Implicit dimension choice for softmax has been deprecated. Change the call to include dim=X as an argument.\n"
     ]
    },
    {
     "name": "stdout",
     "output_type": "stream",
     "text": [
      "tensor([0.4038, 0.5962])\n"
     ]
    }
   ],
   "source": [
    "with torch.no_grad():\n",
    "    print(torch_network(torch.tensor([1.,0.])))"
   ]
  },
  {
   "cell_type": "markdown",
   "id": "16ac1073",
   "metadata": {},
   "source": [
    "Note that the `forward` method is automatically called when you call your network object."
   ]
  },
  {
   "cell_type": "markdown",
   "id": "2d49b471",
   "metadata": {},
   "source": [
    "### 4.4.b.2 Training your network (1 point)\n",
    "\n",
    "Even though we have not covered how training actually works, we will proceed with the training of the a neural network as a blackbox procedure and we will later on learn the internals of the training process (and even implement them ourselves!).\n",
    "\n",
    "For now, train a neural network (the one you created above) to learn the XOR operation. You are to create a neural network with the appropriate number of input variables, an intermediate hidden layer with 2 units and an output layer with 2 units.\n",
    "\n",
    "Notes:\n",
    "- Please read [this introduction to the optimization loop in PyTorch](https://pytorch.org/tutorials/beginner/basics/optimization_tutorial.html#optimization-loop). It should give you a good overview to what PyTorch needs from you to train a neural network.\n",
    "- You are to train the network until the network learns the operation. Remember to set your random seeds so the results are reproducible.\n",
    "- There are many optimizers available and Adam is an optimizer that's more complex than SGD. It has not yet been covered in the lecture but its usage in code is equivalent to that of SGD and performs much better."
   ]
  },
  {
   "cell_type": "code",
   "execution_count": 278,
   "id": "bbab6628",
   "metadata": {},
   "outputs": [],
   "source": [
    "# Our training X, where each instance includes an x1 and an x2, (where the operation is defined as x1 XOR x2)\n",
    "training_x = [[0,0], [0,1], [1,0], [1,1]]\n",
    "\n",
    "# We have only covered softmax in the lecture, so we format the output as follows:\n",
    "training_y = [[1,0], [0,1], [0,1], [1,0]]\n",
    "\n",
    "# The Y is formatted such that the its first element corresponds to the probability of the XOR resulting in a 0\n",
    "# and the second element to the probability of the XOR resulting in a 1\n",
    "\n",
    "################################################################\n",
    "# TODO: Adapt the training set so it can be used with `pytorch`\n",
    "################################################################\n",
    "X=torch.tensor(training_x,dtype=torch.float32)\n",
    "Y=torch.tensor(training_y,dtype=torch.float32)"
   ]
  },
  {
   "cell_type": "code",
   "execution_count": 279,
   "id": "454fec36",
   "metadata": {},
   "outputs": [],
   "source": [
    "# Create the model from the previous class and pick a learning rate\n",
    "torch.manual_seed(42)\n",
    "model = torch_network\n",
    "learning_rate = 0.1"
   ]
  },
  {
   "cell_type": "code",
   "execution_count": 280,
   "id": "9e79e74a",
   "metadata": {},
   "outputs": [],
   "source": [
    "def train_loop(data, model, loss_fn, optimizer):\n",
    "    # TODO: Implement\n",
    "    X,Y=data[0],data[1]\n",
    "    # Compute prediction and loss\n",
    "    pred = model(X)\n",
    "    loss = loss_fn(pred, Y)\n",
    "\n",
    "        # Backpropagation\n",
    "    optimizer.zero_grad()\n",
    "    loss.backward()\n",
    "    optimizer.step()\n",
    "    loss= loss.item()\n",
    "    print(f\"loss: {loss:>7f}\")"
   ]
  },
  {
   "cell_type": "code",
   "execution_count": 281,
   "id": "db951fe2",
   "metadata": {},
   "outputs": [
    {
     "name": "stdout",
     "output_type": "stream",
     "text": [
      "epoch: 0\n"
     ]
    },
    {
     "name": "stderr",
     "output_type": "stream",
     "text": [
      "C:\\Users\\Asus\\Anaconda3\\lib\\site-packages\\ipykernel_launcher.py:32: UserWarning: Implicit dimension choice for softmax has been deprecated. Change the call to include dim=X as an argument.\n"
     ]
    },
    {
     "name": "stdout",
     "output_type": "stream",
     "text": [
      "loss: 0.706204\n",
      "epoch: 1\n",
      "loss: 0.691678\n",
      "epoch: 2\n",
      "loss: 0.693942\n",
      "epoch: 3\n",
      "loss: 0.690251\n",
      "epoch: 4\n",
      "loss: 0.689541\n",
      "epoch: 5\n",
      "loss: 0.689409\n",
      "epoch: 6\n",
      "loss: 0.685096\n",
      "epoch: 7\n",
      "loss: 0.678389\n",
      "epoch: 8\n",
      "loss: 0.671014\n",
      "epoch: 9\n",
      "loss: 0.657473\n",
      "epoch: 10\n",
      "loss: 0.641583\n",
      "epoch: 11\n",
      "loss: 0.612608\n",
      "epoch: 12\n",
      "loss: 0.589663\n",
      "epoch: 13\n",
      "loss: 0.560368\n",
      "epoch: 14\n",
      "loss: 0.524388\n",
      "epoch: 15\n",
      "loss: 0.487841\n",
      "epoch: 16\n",
      "loss: 0.443445\n",
      "epoch: 17\n",
      "loss: 0.397335\n",
      "epoch: 18\n",
      "loss: 0.361403\n",
      "epoch: 19\n",
      "loss: 0.338889\n",
      "epoch: 20\n",
      "loss: 0.324128\n",
      "epoch: 21\n",
      "loss: 0.317894\n",
      "epoch: 22\n",
      "loss: 0.315419\n",
      "epoch: 23\n",
      "loss: 0.314367\n",
      "epoch: 24\n",
      "loss: 0.313882\n",
      "epoch: 25\n",
      "loss: 0.313635\n",
      "epoch: 26\n",
      "loss: 0.313497\n",
      "epoch: 27\n",
      "loss: 0.313416\n",
      "epoch: 28\n",
      "loss: 0.313369\n",
      "epoch: 29\n",
      "loss: 0.313338\n",
      "epoch: 30\n",
      "loss: 0.313318\n",
      "epoch: 31\n",
      "loss: 0.313305\n",
      "epoch: 32\n",
      "loss: 0.313296\n",
      "epoch: 33\n",
      "loss: 0.313289\n",
      "epoch: 34\n",
      "loss: 0.313284\n",
      "epoch: 35\n",
      "loss: 0.313280\n",
      "epoch: 36\n",
      "loss: 0.313277\n",
      "epoch: 37\n",
      "loss: 0.313275\n",
      "epoch: 38\n",
      "loss: 0.313273\n",
      "epoch: 39\n",
      "loss: 0.313272\n",
      "epoch: 40\n",
      "loss: 0.313271\n",
      "epoch: 41\n",
      "loss: 0.313269\n",
      "epoch: 42\n",
      "loss: 0.313269\n",
      "epoch: 43\n",
      "loss: 0.313268\n",
      "epoch: 44\n",
      "loss: 0.313267\n",
      "epoch: 45\n",
      "loss: 0.313267\n",
      "epoch: 46\n",
      "loss: 0.313266\n",
      "epoch: 47\n",
      "loss: 0.313266\n",
      "epoch: 48\n",
      "loss: 0.313266\n",
      "epoch: 49\n",
      "loss: 0.313265\n",
      "epoch: 50\n",
      "loss: 0.313265\n",
      "epoch: 51\n",
      "loss: 0.313265\n",
      "epoch: 52\n",
      "loss: 0.313265\n",
      "epoch: 53\n",
      "loss: 0.313265\n",
      "epoch: 54\n",
      "loss: 0.313264\n",
      "epoch: 55\n",
      "loss: 0.313264\n",
      "epoch: 56\n",
      "loss: 0.313264\n",
      "epoch: 57\n",
      "loss: 0.313264\n",
      "epoch: 58\n",
      "loss: 0.313264\n",
      "epoch: 59\n",
      "loss: 0.313264\n",
      "epoch: 60\n",
      "loss: 0.313264\n",
      "epoch: 61\n",
      "loss: 0.313264\n",
      "epoch: 62\n",
      "loss: 0.313264\n",
      "epoch: 63\n",
      "loss: 0.313264\n",
      "epoch: 64\n",
      "loss: 0.313264\n",
      "epoch: 65\n",
      "loss: 0.313264\n",
      "epoch: 66\n",
      "loss: 0.313263\n",
      "epoch: 67\n",
      "loss: 0.313263\n",
      "epoch: 68\n",
      "loss: 0.313263\n",
      "epoch: 69\n",
      "loss: 0.313263\n",
      "epoch: 70\n",
      "loss: 0.313263\n",
      "epoch: 71\n",
      "loss: 0.313263\n",
      "epoch: 72\n",
      "loss: 0.313263\n",
      "epoch: 73\n",
      "loss: 0.313263\n",
      "epoch: 74\n",
      "loss: 0.313263\n",
      "epoch: 75\n",
      "loss: 0.313263\n",
      "epoch: 76\n",
      "loss: 0.313263\n",
      "epoch: 77\n",
      "loss: 0.313263\n",
      "epoch: 78\n",
      "loss: 0.313263\n",
      "epoch: 79\n",
      "loss: 0.313263\n",
      "epoch: 80\n",
      "loss: 0.313263\n",
      "epoch: 81\n",
      "loss: 0.313263\n",
      "epoch: 82\n",
      "loss: 0.313263\n",
      "epoch: 83\n",
      "loss: 0.313263\n",
      "epoch: 84\n",
      "loss: 0.313263\n",
      "epoch: 85\n",
      "loss: 0.313263\n",
      "epoch: 86\n",
      "loss: 0.313263\n",
      "epoch: 87\n",
      "loss: 0.313263\n",
      "epoch: 88\n",
      "loss: 0.313263\n",
      "epoch: 89\n",
      "loss: 0.313263\n",
      "epoch: 90\n",
      "loss: 0.313263\n",
      "epoch: 91\n",
      "loss: 0.313263\n",
      "epoch: 92\n",
      "loss: 0.313263\n",
      "epoch: 93\n",
      "loss: 0.313263\n",
      "epoch: 94\n",
      "loss: 0.313263\n",
      "epoch: 95\n",
      "loss: 0.313263\n",
      "epoch: 96\n",
      "loss: 0.313263\n",
      "epoch: 97\n",
      "loss: 0.313263\n",
      "epoch: 98\n",
      "loss: 0.313263\n",
      "epoch: 99\n",
      "loss: 0.313263\n"
     ]
    }
   ],
   "source": [
    "# TODO: Run training\n",
    "optimizer = torch.optim.Adam(model.parameters(), lr=learning_rate)\n",
    "loss_fn = nn.CrossEntropyLoss()\n",
    "data=(X,Y)\n",
    "epochs=range(100)\n",
    "for epoch in epochs:\n",
    "    print(\"epoch:\",epoch)\n",
    "    train_loop(data,model,loss_fn,optimizer)"
   ]
  },
  {
   "cell_type": "code",
   "execution_count": 282,
   "id": "22dddaf9",
   "metadata": {},
   "outputs": [
    {
     "name": "stderr",
     "output_type": "stream",
     "text": [
      "C:\\Users\\Asus\\Anaconda3\\lib\\site-packages\\ipykernel_launcher.py:32: UserWarning: Implicit dimension choice for softmax has been deprecated. Change the call to include dim=X as an argument.\n"
     ]
    },
    {
     "data": {
      "text/plain": [
       "tensor([False,  True])"
      ]
     },
     "execution_count": 282,
     "metadata": {},
     "output_type": "execute_result"
    }
   ],
   "source": [
    "model(torch.tensor([0.,1.]))>0.5"
   ]
  },
  {
   "cell_type": "code",
   "execution_count": null,
   "id": "40e6a8c7",
   "metadata": {},
   "outputs": [],
   "source": []
  }
 ],
 "metadata": {
  "kernelspec": {
   "display_name": "Python 3",
   "language": "python",
   "name": "python3"
  },
  "language_info": {
   "codemirror_mode": {
    "name": "ipython",
    "version": 3
   },
   "file_extension": ".py",
   "mimetype": "text/x-python",
   "name": "python",
   "nbconvert_exporter": "python",
   "pygments_lexer": "ipython3",
   "version": "3.7.4"
  }
 },
 "nbformat": 4,
 "nbformat_minor": 5
}
